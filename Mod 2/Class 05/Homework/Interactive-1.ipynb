{
 "cells": [
  {
   "cell_type": "markdown",
   "metadata": {},
   "source": [
    "Connected to DM_6103 (Python 3.12.4)"
   ]
  },
  {
   "cell_type": "code",
   "execution_count": 10,
   "id": "fcc9e775-4a4c-45df-8d75-c42312d900a1",
   "metadata": {},
   "outputs": [
    {
     "name": "stdout",
     "output_type": "stream",
     "text": [
      "nparray2: [[11 12 13]\n",
      " [21 22 23]\n",
      " [31 32 33]\n",
      " [41 42 43]]\n",
      "nparray2c: [[11 12 13]\n",
      " [21  0 23]\n",
      " [31 32 33]\n",
      " [41 42 43]]\n",
      "nparray2 == nparray2c: [[ True  True  True]\n",
      " [ True False  True]\n",
      " [ True  True  True]\n",
      " [ True  True  True]]\n",
      "nparray2 is nparray2c: False\n"
     ]
    }
   ],
   "source": [
    "# ######  Part 1d      Part 1d      Part 1d   ##########\n",
    "# \n",
    "# 1.d) Let us focus on nparray2 now. (It has the same values as nparray2b.) \n",
    "# Make a shallow copy nparray2 as nparray2c\n",
    "# now change nparray2c 1,1 position to 0. Check nparray2 and nparray2c again. \n",
    "# Print out the two arrays now. Is that what you expect?\n",
    "# \n",
    "# Also use the \"==\" operator and \"is\" operator to test the 2 arrays. \n",
    "# write your codes here\n",
    "# shallow copy\n",
    "nparray2c = nparray2.copy()\n",
    "nparray2c[1, 1] = 0\n",
    "\n",
    "# check matrices\n",
    "print(\"nparray2:\", nparray2)\n",
    "print(\"nparray2c:\", nparray2c)\n",
    "\n",
    "# since we make a shallow copy of nparray2 and store it in nparray2c, changing an element of nparray2c\n",
    "# does not have any effect on the elemets of nparray2\n",
    "\n",
    "print(\"nparray2 == nparray2c:\", nparray2 == nparray2c) \n",
    "print(\"nparray2 is nparray2c:\", nparray2 is nparray2c) "
   ]
  }
 ],
 "metadata": {
  "kernelspec": {
   "display_name": "DM_6103",
   "language": "python",
   "name": "python3"
  },
  "language_info": {
   "name": "python",
   "version": "3.12.4"
  }
 },
 "nbformat": 4,
 "nbformat_minor": 2
}
